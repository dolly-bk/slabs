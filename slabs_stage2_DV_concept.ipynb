{
 "cells": [
  {
   "cell_type": "code",
   "execution_count": 1,
   "id": "41b9b6a6",
   "metadata": {},
   "outputs": [
    {
     "data": {
      "text/html": [
       "<div>\n",
       "<style scoped>\n",
       "    .dataframe tbody tr th:only-of-type {\n",
       "        vertical-align: middle;\n",
       "    }\n",
       "\n",
       "    .dataframe tbody tr th {\n",
       "        vertical-align: top;\n",
       "    }\n",
       "\n",
       "    .dataframe thead th {\n",
       "        text-align: right;\n",
       "    }\n",
       "</style>\n",
       "<table border=\"1\" class=\"dataframe\">\n",
       "  <thead>\n",
       "    <tr style=\"text-align: right;\">\n",
       "      <th></th>\n",
       "      <th>ID Плавки</th>\n",
       "      <th>imax</th>\n",
       "      <th>ПОРТ</th>\n",
       "      <th>Марка</th>\n",
       "      <th>АПК</th>\n",
       "      <th>АЦВ</th>\n",
       "      <th>У-9</th>\n",
       "      <th>Номер толщины(H_i)</th>\n",
       "    </tr>\n",
       "  </thead>\n",
       "  <tbody>\n",
       "    <tr>\n",
       "      <th>0</th>\n",
       "      <td>0</td>\n",
       "      <td>20</td>\n",
       "      <td>Калининград</td>\n",
       "      <td>S355JR</td>\n",
       "      <td>1</td>\n",
       "      <td>0</td>\n",
       "      <td>0</td>\n",
       "      <td>1</td>\n",
       "    </tr>\n",
       "    <tr>\n",
       "      <th>1</th>\n",
       "      <td>1</td>\n",
       "      <td>20</td>\n",
       "      <td>Калининград</td>\n",
       "      <td>S355JR</td>\n",
       "      <td>1</td>\n",
       "      <td>0</td>\n",
       "      <td>0</td>\n",
       "      <td>1</td>\n",
       "    </tr>\n",
       "    <tr>\n",
       "      <th>2</th>\n",
       "      <td>2</td>\n",
       "      <td>20</td>\n",
       "      <td>Калининград</td>\n",
       "      <td>S355JR</td>\n",
       "      <td>1</td>\n",
       "      <td>0</td>\n",
       "      <td>0</td>\n",
       "      <td>1</td>\n",
       "    </tr>\n",
       "    <tr>\n",
       "      <th>3</th>\n",
       "      <td>3</td>\n",
       "      <td>20</td>\n",
       "      <td>Калининград</td>\n",
       "      <td>S355JR</td>\n",
       "      <td>1</td>\n",
       "      <td>0</td>\n",
       "      <td>0</td>\n",
       "      <td>1</td>\n",
       "    </tr>\n",
       "    <tr>\n",
       "      <th>4</th>\n",
       "      <td>4</td>\n",
       "      <td>20</td>\n",
       "      <td>Калининград</td>\n",
       "      <td>S355JR</td>\n",
       "      <td>1</td>\n",
       "      <td>0</td>\n",
       "      <td>0</td>\n",
       "      <td>1</td>\n",
       "    </tr>\n",
       "    <tr>\n",
       "      <th>...</th>\n",
       "      <td>...</td>\n",
       "      <td>...</td>\n",
       "      <td>...</td>\n",
       "      <td>...</td>\n",
       "      <td>...</td>\n",
       "      <td>...</td>\n",
       "      <td>...</td>\n",
       "      <td>...</td>\n",
       "    </tr>\n",
       "    <tr>\n",
       "      <th>75</th>\n",
       "      <td>75</td>\n",
       "      <td>20</td>\n",
       "      <td>Туапсе</td>\n",
       "      <td>1026</td>\n",
       "      <td>1</td>\n",
       "      <td>0</td>\n",
       "      <td>0</td>\n",
       "      <td>1</td>\n",
       "    </tr>\n",
       "    <tr>\n",
       "      <th>76</th>\n",
       "      <td>76</td>\n",
       "      <td>20</td>\n",
       "      <td>Туапсе</td>\n",
       "      <td>1026</td>\n",
       "      <td>1</td>\n",
       "      <td>0</td>\n",
       "      <td>0</td>\n",
       "      <td>1</td>\n",
       "    </tr>\n",
       "    <tr>\n",
       "      <th>77</th>\n",
       "      <td>77</td>\n",
       "      <td>20</td>\n",
       "      <td>Туапсе</td>\n",
       "      <td>1026</td>\n",
       "      <td>1</td>\n",
       "      <td>0</td>\n",
       "      <td>0</td>\n",
       "      <td>1</td>\n",
       "    </tr>\n",
       "    <tr>\n",
       "      <th>78</th>\n",
       "      <td>78</td>\n",
       "      <td>20</td>\n",
       "      <td>Туапсе</td>\n",
       "      <td>1026</td>\n",
       "      <td>1</td>\n",
       "      <td>0</td>\n",
       "      <td>0</td>\n",
       "      <td>1</td>\n",
       "    </tr>\n",
       "    <tr>\n",
       "      <th>79</th>\n",
       "      <td>79</td>\n",
       "      <td>20</td>\n",
       "      <td>Туапсе</td>\n",
       "      <td>1026</td>\n",
       "      <td>1</td>\n",
       "      <td>0</td>\n",
       "      <td>0</td>\n",
       "      <td>1</td>\n",
       "    </tr>\n",
       "  </tbody>\n",
       "</table>\n",
       "<p>80 rows × 8 columns</p>\n",
       "</div>"
      ],
      "text/plain": [
       "    ID Плавки  imax         ПОРТ   Марка  АПК  АЦВ  У-9  Номер толщины(H_i)\n",
       "0           0    20  Калининград  S355JR    1    0    0                   1\n",
       "1           1    20  Калининград  S355JR    1    0    0                   1\n",
       "2           2    20  Калининград  S355JR    1    0    0                   1\n",
       "3           3    20  Калининград  S355JR    1    0    0                   1\n",
       "4           4    20  Калининград  S355JR    1    0    0                   1\n",
       "..        ...   ...          ...     ...  ...  ...  ...                 ...\n",
       "75         75    20       Туапсе    1026    1    0    0                   1\n",
       "76         76    20       Туапсе    1026    1    0    0                   1\n",
       "77         77    20       Туапсе    1026    1    0    0                   1\n",
       "78         78    20       Туапсе    1026    1    0    0                   1\n",
       "79         79    20       Туапсе    1026    1    0    0                   1\n",
       "\n",
       "[80 rows x 8 columns]"
      ]
     },
     "execution_count": 1,
     "metadata": {},
     "output_type": "execute_result"
    }
   ],
   "source": [
    "import pandas as pd\n",
    "import numpy as np\n",
    "#data_path = \"July2021_for_test.xlsx\"\n",
    "data_path = \"20_80_plain.xlsx\"\n",
    "df = pd.read_excel(data_path, usecols=\"A:Q\", engine=\"openpyxl\")\n",
    "#print(df[\"Плавок(окр)\"].sum())\n",
    "df"
   ]
  },
  {
   "cell_type": "code",
   "execution_count": 2,
   "id": "637ea902",
   "metadata": {},
   "outputs": [],
   "source": [
    "# Array for thicknesses by number of heat\n",
    "w_numbers = df[\"Номер толщины(H_i)\"].to_numpy()\n",
    "# Array for imax\n",
    "j_imax = df[\"imax\"].to_numpy() "
   ]
  },
  {
   "cell_type": "code",
   "execution_count": 3,
   "id": "6e766052",
   "metadata": {},
   "outputs": [],
   "source": [
    "from amplify import (\n",
    "    BinaryPoly,\n",
    "    BinaryQuadraticModel,\n",
    "    sum_poly,pair_sum,\n",
    "    gen_symbols,\n",
    "    Solver,\n",
    "    decode_solution,\n",
    ")\n",
    "from amplify import Solver\n",
    "from amplify.client import FixstarsClient\n",
    "#from amplify.client.ocean import DWaveSamplerClient\n",
    "from amplify.constraint import less_equal, equal_to, penalty,one_hot\n",
    "\n",
    "def flatten(t):\n",
    "    return [item for sublist in t for item in sublist]\n",
    "\n",
    "client = FixstarsClient()\n",
    "client.token = \"LvfkonaT7sLymsCqHyyQUp7JxHlo02CF\"\n",
    "client.parameters.timeout = 60000  # Timeout is 60 seconds\n",
    "\n",
    "solver = Solver(client)"
   ]
  },
  {
   "cell_type": "code",
   "execution_count": 4,
   "id": "403f6fda",
   "metadata": {},
   "outputs": [],
   "source": [
    "#n = 80 #Number of timeslots for 5 days\n",
    "n = 20\n",
    "#m = 795 #Number of heats\n",
    "m = 80\n",
    "w = 6 #Number of thicknesses\n",
    "w_max = [3,4,0,1,1,1] #Max thicknesses per UNRS\n",
    "\n",
    "x = gen_symbols(BinaryPoly,m,n) #Variable x - heat for timeslot"
   ]
  },
  {
   "cell_type": "code",
   "execution_count": 5,
   "id": "d6d6861c",
   "metadata": {},
   "outputs": [],
   "source": [
    "# Condition for min(n, imax[j])\n",
    "for j in range (m):\n",
    "    if (df.loc[j, \"imax\"]<n):\n",
    "        for i in range (df.loc[j, \"imax\"], n):\n",
    "            x[j][i]=0"
   ]
  },
  {
   "cell_type": "code",
   "execution_count": 6,
   "id": "fec42110",
   "metadata": {},
   "outputs": [],
   "source": [
    "# В одном слоте 4 плавки по кол-ву УНРС\n",
    "# Либо для 5.1. Constraints on columns\n",
    "col_constraints = [\n",
    "    equal_to(sum_poly([x[j][i] for j in range(m)]), 4) for i in range(n)\n",
    "]"
   ]
  },
  {
   "cell_type": "code",
   "execution_count": 7,
   "id": "cfb4bebb",
   "metadata": {},
   "outputs": [],
   "source": [
    "H1_constr = sum(col_constraints)"
   ]
  },
  {
   "cell_type": "code",
   "execution_count": 8,
   "id": "f7fc8f14",
   "metadata": {},
   "outputs": [],
   "source": [
    "# 5.2 Deadline\n",
    "S = [int(df.loc[j,\"imax\"]<=n) for j in range(m)] #плавка должна быть разлита обязательно - взять из df"
   ]
  },
  {
   "cell_type": "code",
   "execution_count": 9,
   "id": "44557d7d",
   "metadata": {},
   "outputs": [],
   "source": [
    "H2_0 = sum_poly(m, lambda j: S[j]*(1 - sum_poly(n, lambda i:(x[j][i])))**2)"
   ]
  },
  {
   "cell_type": "code",
   "execution_count": 10,
   "id": "b98375e7",
   "metadata": {},
   "outputs": [],
   "source": [
    "# Либо для 5.2 H2_1 Constraints on rows\n",
    "H2_1_constr = 0\n",
    "row_constraints = 0\n",
    "for j in range(m):\n",
    "    if (1-S[j]):\n",
    "        row_constraints += less_equal(sum_poly([x[j][i] for i in range(n)]), 1)\n",
    "\n",
    "#H2_1_constr = row_constraints\n",
    "H2_1_constr = sum([less_equal(x[0][0],1)]) if not row_constraints else sum(row_constraints)"
   ]
  },
  {
   "cell_type": "code",
   "execution_count": 11,
   "id": "f65fd26f",
   "metadata": {},
   "outputs": [],
   "source": [
    "# 5.3 Ограничение на количество плавок одной толщины в каждом ts\n",
    "w_sum = [[0 for x in range(w)] for y in range(n)] #array for sums of each thickness for each ts\n",
    "#constr_w = 0\n",
    "# Number of heats for each thickness for each ts\n",
    "for i in range(n):\n",
    "    for w_ind in range(w):\n",
    "        for j in range(m):\n",
    "            w_sum[i][w_ind]+= (int(w_numbers[j]==w_ind))*x[j][i]\n",
    "        #constr_w += less_equal(w_sum[i][w_ind], w_max[w_ind], label=label)       "
   ]
  },
  {
   "cell_type": "code",
   "execution_count": 12,
   "id": "761af507",
   "metadata": {},
   "outputs": [],
   "source": [
    "#Create array x_w_full for slack variables\n",
    "x_w_full = []\n",
    "x_w_start = n*m\n",
    "#for i in range(n):\n",
    "for w_ind in range(w):\n",
    "    w_max_ind = w_max[w_ind]+1\n",
    "    x_w_full.append(gen_symbols(BinaryPoly, x_w_start, (w_max_ind,n)))\n",
    "    x_w_start += w_max_ind*n       "
   ]
  },
  {
   "cell_type": "code",
   "execution_count": 13,
   "id": "60f7d900",
   "metadata": {},
   "outputs": [],
   "source": [
    "# <============5.3 \n",
    "H3 = 0\n",
    "x_w_start = n*m\n",
    "for i in range (n):\n",
    "    for w_ind in range(w):\n",
    "        H3_i_w = 0\n",
    "        H3_i_w += w_sum[i][w_ind]\n",
    "        for ww in range (1, w_max[w_ind]+1):\n",
    "            x_w_start += ww\n",
    "            H3_i_w +=ww*x_w_full[w_ind][ww][i]\n",
    "        x_w_start += w_max[w_ind]*n    \n",
    "        H3_i_w = (H3_i_w - w_max[w_ind])**2 \n",
    "        H3+=H3_i_w   "
   ]
  },
  {
   "cell_type": "code",
   "execution_count": null,
   "id": "aee964db",
   "metadata": {},
   "outputs": [],
   "source": [
    "# H4 APK(L) ACV(V)\n",
    "\"\"\"\n",
    "K = 1 #Coeff\n",
    "L = []\n",
    "V = [] # TBD\n",
    "H4 = 0\n",
    "for j in range (m):\n",
    "    L.append(df.loc[j,\"АПК\"])   \n",
    "for i in range(n):\n",
    "    H4 += less_equal(sum_poly(m, lambda j:(L[j]*x[j][i])), 2)\n",
    "H4 = K*sum(H4)  \n",
    "\"\"\""
   ]
  },
  {
   "cell_type": "code",
   "execution_count": null,
   "id": "a21702e5",
   "metadata": {},
   "outputs": [],
   "source": [
    "# 5.5 Логистические расходы\n",
    "\"\"\"\n",
    "F = 1 #Coeff\n",
    "H5 = F*(sum_poly(m, lambda j: (j_imax[j] - sum_poly(n, lambda i:(i*x[j][i])))**2))\n",
    "\"\"\""
   ]
  },
  {
   "cell_type": "code",
   "execution_count": 14,
   "id": "666f2cd1",
   "metadata": {},
   "outputs": [],
   "source": [
    "# Array for offset of slack variables (distance - for count numbers of heats with different thicknesses) \n",
    "D_w = [0 for x in range(w)]\n",
    "for ww in range(w):\n",
    "    D_w[ww] = [[abs(y-x) for x in range(w_max[ww]+1)] for y in range(w_max[ww]+1)]"
   ]
  },
  {
   "cell_type": "code",
   "execution_count": 15,
   "id": "7f265909",
   "metadata": {},
   "outputs": [],
   "source": [
    "# 5.5 Перенастройки по толщине\n",
    "# Для каждой толщины считаем, сколько плавок данной толщины делалось в соседних ts. Минимизируем дельту\n",
    "# We can use array w_sum = [[0 for x in range(w)] for y in range(n)]\n",
    "\n",
    "H_5_i_0 = 0\n",
    "for w_ind in range(w):\n",
    "    for i in range(n):\n",
    "        #H_5_i +=(1-sum_poly(w_max[w_ind]+1,lambda ww: (x_w_full[w_ind][ww][i])))**2 \n",
    "        H_5_i_0 +=one_hot(sum_poly(w_max[w_ind]+1,lambda ww: (x_w_full[w_ind][ww][i])))\n",
    "    \n",
    "H_5_i_1 = 0    \n",
    "for i in range(n-1):\n",
    "    for w_ind in range(w):\n",
    "        for e_ind in range(w_max[w_ind]+1):\n",
    "            for f_ind in range(w_max[w_ind]+1):\n",
    "                H_5_i_1+= 0.5*D_w[w_ind][e_ind][f_ind]*x_w_full[w_ind][e_ind][i]*x_w_full[w_ind][f_ind][i+1]       "
   ]
  },
  {
   "cell_type": "code",
   "execution_count": null,
   "id": "8d053dee",
   "metadata": {},
   "outputs": [],
   "source": [
    "#H = H5 + H2_0 + H1_constr + H2_1_constr + H3 + H4 + H6"
   ]
  },
  {
   "cell_type": "code",
   "execution_count": 16,
   "id": "ff512eed",
   "metadata": {},
   "outputs": [],
   "source": [
    "# Сoefficients for model  \n",
    "A=9\n",
    "B=9\n",
    "E=9\n",
    "K=9\n",
    "R=9\n",
    "Q1=9\n",
    "Q2=1\n",
    "\n",
    "model = Q2*H_5_i_1 + E*H3 + B*H2_0 + A*H1_constr + R*H2_1_constr + Q1*H_5_i_0\n",
    "#model = H2_0 + H3 + H1_constr + H2_1_constr"
   ]
  },
  {
   "cell_type": "code",
   "execution_count": 17,
   "id": "f6603925",
   "metadata": {},
   "outputs": [
    {
     "data": {
      "text/plain": [
       "1920"
      ]
     },
     "execution_count": 17,
     "metadata": {},
     "output_type": "execute_result"
    }
   ],
   "source": [
    "model.num_logical_vars"
   ]
  },
  {
   "cell_type": "code",
   "execution_count": 18,
   "id": "d3ba4484",
   "metadata": {},
   "outputs": [
    {
     "name": "stdout",
     "output_type": "stream",
     "text": [
      "0.0\n"
     ]
    }
   ],
   "source": [
    "count = 0\n",
    "for count in range (1):\n",
    "    result = solver.solve(model)\n",
    "    if len(result) == 0:\n",
    "        raise RuntimeError(\"Any one of constraints is not satisfied.\")\n",
    "\n",
    "    energy, values = result[0].energy, result[0].values\n",
    "\n",
    "    x_values = decode_solution(x, values)\n",
    "\n",
    "    print(energy)\n",
    "    \n",
    "    x_values_array = np.asarray(x_values, dtype = np.int32)\n",
    "    np.savetxt(\"slabs-\"+str(pd.Timestamp.now())+\".csv\", x_values_array, fmt='%i', delimiter=\",\")\n",
    "    \n",
    "    count+=1"
   ]
  },
  {
   "cell_type": "code",
   "execution_count": null,
   "id": "4baac695",
   "metadata": {},
   "outputs": [],
   "source": [
    "for i in range (n):\n",
    "    print(\"Timeslot \", i)\n",
    "    for j in range(m):\n",
    "        if (x_values[j][i]):\n",
    "            print(\"Heat \", j)\n",
    "            print (\"Thickness \", w_numbers[j])\n",
    "            print (x_values[j][i])"
   ]
  },
  {
   "cell_type": "code",
   "execution_count": null,
   "id": "97b6157b",
   "metadata": {},
   "outputs": [],
   "source": [
    "client_result = solver.client_result\n",
    "client_result.annealing_time_ms"
   ]
  },
  {
   "cell_type": "code",
   "execution_count": null,
   "id": "897b0586",
   "metadata": {},
   "outputs": [],
   "source": [
    "client_result.timing.cpu_time"
   ]
  },
  {
   "cell_type": "code",
   "execution_count": null,
   "id": "fcace2c5",
   "metadata": {},
   "outputs": [],
   "source": [
    "def get_assignments(x_ij, rng=n):\n",
    "    casts_assign = [[] for y in range(rng)]\n",
    "    cast = 0\n",
    "    for c in x_ij:\n",
    "        if 1 in c:\n",
    "            casts_assign[list(c).index(1)].append(cast)\n",
    "        cast += 1\n",
    "    return casts_assign\n",
    "\n",
    "def get_thickness_by_cast_num(c):\n",
    "    return df[\"Номер толщины(H_i)\"][c]\n",
    "\n",
    "#xij = np.loadtxt(open('/home/eugene/__Work/Slabs/Code/slabs-2021-11-09 00 01 03.398912.csv', \"r\"), delimiter=\",\")  # or just take the decoded solution 2D-array\n",
    "\n",
    "casts_assign = get_assignments(x_values)\n",
    "print(casts_assign)\n",
    "\n",
    "thickness_assign = [list(map(get_thickness_by_cast_num, slot)) for slot in casts_assign]\n",
    "print(thickness_assign)"
   ]
  },
  {
   "cell_type": "code",
   "execution_count": null,
   "id": "1c58bfa1",
   "metadata": {},
   "outputs": [],
   "source": [
    "def check_thickness_assign(d):\n",
    "    if d[0] > 3:\n",
    "        print('Thickness 0 casts number violation')\n",
    "    if d[1] > 4:\n",
    "        print('Thickness 1 casts number violation')\n",
    "    if d[2] > 0:\n",
    "        print('Thickness 2 casts number violation')\n",
    "    if d[3] > 1:\n",
    "        print('Thickness 3 casts number violation')\n",
    "    if d[4] > 1:\n",
    "        print('Thickness 4 casts number violation')\n",
    "    if d[5] > 1:\n",
    "        print('Thickness 5 casts number violation')\n",
    "    else:\n",
    "        print(\"Ok\")\n",
    "\n",
    "slot_num = 0\n",
    "for slot in thickness_assign:\n",
    "    d = {0:0, 1:0, 2:0, 3:0, 4:0, 5:0}\n",
    "    for thickness in slot:\n",
    "        d[thickness] += 1\n",
    "    print(str(d) + 'in slot ' + str(slot_num))\n",
    "    check_thickness_assign(d)\n",
    "\n",
    "    slot_num += 1"
   ]
  },
  {
   "cell_type": "code",
   "execution_count": null,
   "id": "f20b0fa7",
   "metadata": {},
   "outputs": [],
   "source": [
    "# Calculation for UNRS changeovers\n",
    "slot_num = 0\n",
    "d_array = []\n",
    "d_array_diff = []\n",
    "for slot in thickness_assign:\n",
    "    d = {0:0, 1:0, 2:0, 3:0, 4:0, 5:0}\n",
    "    for thickness in slot:\n",
    "        d[thickness] += 1\n",
    "    d_array.append(d)\n",
    "    slot_num += 1\n",
    "    \n",
    "count = 0   # number of changeovers \n",
    "for i in range(n-1):\n",
    "    slot_a = d_array[i]\n",
    "    slot_b = d_array[i+1]\n",
    "    diff = {0:0, 1:0, 2:0, 3:0, 4:0, 5:0}\n",
    "    if(slot_a != slot_b):\n",
    "        print(\"Change, slots:\", i,\"and \", i+1)\n",
    "        for thickness in slot_b:\n",
    "            if(slot_b[thickness] - slot_a[thickness]!=0):\n",
    "                diff[thickness] = slot_b[thickness] - slot_a[thickness]\n",
    "                count +=0.5 \n",
    "        print(diff)    \n",
    "print(count) "
   ]
  },
  {
   "cell_type": "code",
   "execution_count": null,
   "id": "691fbe92",
   "metadata": {},
   "outputs": [],
   "source": [
    "\"\"\"\"\n",
    "#Debug\n",
    "x_w_full_flat = [item for sublist in x_w_full for item in sublist]\n",
    "x_w_full_flat_ = [item for sublist in x_w_full_flat for item in sublist]\n",
    "\n",
    "#Extract from values\n",
    "q_val = [0 for y in range(len(x_w_full_flat_))]\n",
    "ii = 0\n",
    "for q_var in x_w_full_flat_:\n",
    "    ind = int(str(q_var)[3:])\n",
    "    q_val[ii] = values[ind]\n",
    "    ii+=1\n",
    "\n",
    "#Create empty array x_w_full_copy for slack variables\n",
    "x_w_full_copy = []\n",
    "x_w_start = n*m\n",
    "w_max_ind = 0\n",
    "for w_ind in range(w):\n",
    "    w_max_ind = w_max[w_ind]+1\n",
    "    x_w_full_copy.append([[0 for v in range (n)] for w in range (w_max_ind)])\n",
    "    x_w_start += w_max_ind*n\n",
    "\n",
    "#Fill slack var values\n",
    "ii = 0\n",
    "for index, item in enumerate(x_w_full_copy):\n",
    "    for index,item0 in enumerate(item):\n",
    "        for index,item1 in enumerate(item0):\n",
    "            if (q_val[ii]):\n",
    "                #print(q_val[ii])\n",
    "                item0[index] = q_val[ii]\n",
    "            ii+=1"
   ]
  },
  {
   "cell_type": "code",
   "execution_count": null,
   "id": "c3f01904",
   "metadata": {},
   "outputs": [],
   "source": [
    "\"\"\"\n",
    "H_5_i_0 = 0\n",
    "for w_ind in range(w):\n",
    "    for i in range(n):\n",
    "        H_5_i_w = 0\n",
    "        #H_5_i_w +=(1-sum_poly(w_max[w_ind]+1,lambda ww: (x_w_full[w_ind][ww][i])))**2\n",
    "        for ww in range (w_max[w_ind]+1):\n",
    "            H_5_i_w +=x_w_full_copy[w_ind][ww][i]\n",
    "        print(H_5_i_w)    \n",
    "    H_5_i_0 += H_5_i_w\n",
    "    \n",
    "H_5_i_1 = 0    \n",
    "for i in range(n-1):\n",
    "    for w_ind in range(w):\n",
    "        H_5_i_1_w = 0 #for each w\n",
    "        for e_ind in range(w_max[w_ind]+1):\n",
    "            for f_ind in range(w_max[w_ind]+1):\n",
    "                H_5_i_1_w+= 0.5*D_w[w_ind][e_ind][f_ind]*x_w_full_copy[w_ind][e_ind][i]*x_w_full_copy[w_ind][f_ind][i+1]\n",
    "        H_5_i_1 += H_5_i_1_w"
   ]
  },
  {
   "cell_type": "code",
   "execution_count": null,
   "id": "279840a8",
   "metadata": {},
   "outputs": [],
   "source": [
    "#H_5_i_0"
   ]
  },
  {
   "cell_type": "code",
   "execution_count": null,
   "id": "479a802f",
   "metadata": {},
   "outputs": [],
   "source": [
    "#H_5_i_1"
   ]
  }
 ],
 "metadata": {
  "kernelspec": {
   "display_name": "Python 3",
   "language": "python",
   "name": "python3"
  },
  "language_info": {
   "codemirror_mode": {
    "name": "ipython",
    "version": 3
   },
   "file_extension": ".py",
   "mimetype": "text/x-python",
   "name": "python",
   "nbconvert_exporter": "python",
   "pygments_lexer": "ipython3",
   "version": "3.9.5"
  }
 },
 "nbformat": 4,
 "nbformat_minor": 5
}
