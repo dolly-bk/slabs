{
 "cells": [
  {
   "cell_type": "code",
   "execution_count": 1,
   "id": "41b9b6a6",
   "metadata": {},
   "outputs": [
    {
     "name": "stdout",
     "output_type": "stream",
     "text": [
      "900\n"
     ]
    }
   ],
   "source": [
    "import pandas as pd\n",
    "import numpy as np\n",
    "data_path = \"July2021_for_test.xlsx\"\n",
    "df = pd.read_excel(data_path, usecols=\"A:Q\", engine=\"openpyxl\")\n",
    "print(df[\"Плавок(окр)\"].sum())"
   ]
  },
  {
   "cell_type": "code",
   "execution_count": 2,
   "id": "e4ab75d9",
   "metadata": {},
   "outputs": [],
   "source": [
    "index = np.where (df[\"Плавок(окр)\"] >=2)\n",
    "for i in index[0]:\n",
    "    count = df.iloc[i][\"Плавок(окр)\"]\n",
    "    #print(count)\n",
    "    #remain = df.at[i, \"Плавок(окр)\"]%18\n",
    "    df.at[i, \"Плавок(окр)\"] = 1\n",
    "    count -=1\n",
    "    while(count>0):\n",
    "        df1 = df.loc[[i],:]\n",
    "        df1[\"Плавок(окр)\"] = 1\n",
    "        df = pd.concat([df, df1], ignore_index=True)\n",
    "        count-=1\n",
    "        \n",
    "#    df1 = df.loc[[i],:]\n",
    "#    df1[\"Плавок(окр)\"] = remain\n",
    "#    df = pd.concat([df, df1], ignore_index=True)"
   ]
  },
  {
   "cell_type": "code",
   "execution_count": 3,
   "id": "38d5f918",
   "metadata": {},
   "outputs": [],
   "source": [
    "df[\"imax\"] = df[\"Диапазон изменения d от 1\"]*16"
   ]
  },
  {
   "cell_type": "code",
   "execution_count": 4,
   "id": "e52e7f4e",
   "metadata": {},
   "outputs": [],
   "source": [
    "df = df.sort_values(by=[\"Диапазон изменения d от 1\"]).reset_index()"
   ]
  },
  {
   "cell_type": "code",
   "execution_count": 5,
   "id": "ecb13cf7",
   "metadata": {},
   "outputs": [],
   "source": [
    "df.loc[df[\"imax\"] ==80, \"imax\"]=32\n",
    "df.loc[df[\"imax\"] ==240, \"imax\"]=80"
   ]
  },
  {
   "cell_type": "code",
   "execution_count": 6,
   "id": "e9f8cad0",
   "metadata": {},
   "outputs": [
    {
     "data": {
      "text/html": [
       "<div>\n",
       "<style scoped>\n",
       "    .dataframe tbody tr th:only-of-type {\n",
       "        vertical-align: middle;\n",
       "    }\n",
       "\n",
       "    .dataframe tbody tr th {\n",
       "        vertical-align: top;\n",
       "    }\n",
       "\n",
       "    .dataframe thead th {\n",
       "        text-align: right;\n",
       "    }\n",
       "</style>\n",
       "<table border=\"1\" class=\"dataframe\">\n",
       "  <thead>\n",
       "    <tr style=\"text-align: right;\">\n",
       "      <th></th>\n",
       "      <th>index</th>\n",
       "      <th>Номер(i)</th>\n",
       "      <th>Толщ.</th>\n",
       "      <th>Шир.</th>\n",
       "      <th>Диапазон изменения d от 1</th>\n",
       "      <th>ПОРТ</th>\n",
       "      <th>АПК</th>\n",
       "      <th>Плавок(окр)</th>\n",
       "      <th>Разрядов(L_i)</th>\n",
       "      <th>У6</th>\n",
       "      <th>У7</th>\n",
       "      <th>У8</th>\n",
       "      <th>У9 Fix</th>\n",
       "      <th>У9</th>\n",
       "      <th>Подходит УНРС</th>\n",
       "      <th>Диапазон изменения k</th>\n",
       "      <th>Число переменных</th>\n",
       "      <th>Номер толщины(H_i)</th>\n",
       "      <th>imax</th>\n",
       "    </tr>\n",
       "  </thead>\n",
       "  <tbody>\n",
       "    <tr>\n",
       "      <th>18</th>\n",
       "      <td>771</td>\n",
       "      <td>106</td>\n",
       "      <td>250</td>\n",
       "      <td>2080</td>\n",
       "      <td>9</td>\n",
       "      <td>С-Петербург</td>\n",
       "      <td>1</td>\n",
       "      <td>1</td>\n",
       "      <td>3</td>\n",
       "      <td>0</td>\n",
       "      <td>0</td>\n",
       "      <td>1</td>\n",
       "      <td>0</td>\n",
       "      <td>1</td>\n",
       "      <td>2</td>\n",
       "      <td>2,3</td>\n",
       "      <td>54</td>\n",
       "      <td>1</td>\n",
       "      <td>144</td>\n",
       "    </tr>\n",
       "    <tr>\n",
       "      <th>19</th>\n",
       "      <td>78</td>\n",
       "      <td>78</td>\n",
       "      <td>250</td>\n",
       "      <td>1850</td>\n",
       "      <td>9</td>\n",
       "      <td>Новороссийск</td>\n",
       "      <td>1</td>\n",
       "      <td>1</td>\n",
       "      <td>0</td>\n",
       "      <td>1</td>\n",
       "      <td>1</td>\n",
       "      <td>1</td>\n",
       "      <td>0</td>\n",
       "      <td>1</td>\n",
       "      <td>4</td>\n",
       "      <td>0,1,2,3</td>\n",
       "      <td>0</td>\n",
       "      <td>1</td>\n",
       "      <td>144</td>\n",
       "    </tr>\n",
       "    <tr>\n",
       "      <th>20</th>\n",
       "      <td>102</td>\n",
       "      <td>102</td>\n",
       "      <td>250</td>\n",
       "      <td>2075</td>\n",
       "      <td>9</td>\n",
       "      <td>С-Петербург</td>\n",
       "      <td>1</td>\n",
       "      <td>1</td>\n",
       "      <td>3</td>\n",
       "      <td>0</td>\n",
       "      <td>0</td>\n",
       "      <td>1</td>\n",
       "      <td>0</td>\n",
       "      <td>1</td>\n",
       "      <td>2</td>\n",
       "      <td>2,3</td>\n",
       "      <td>54</td>\n",
       "      <td>1</td>\n",
       "      <td>144</td>\n",
       "    </tr>\n",
       "    <tr>\n",
       "      <th>21</th>\n",
       "      <td>768</td>\n",
       "      <td>106</td>\n",
       "      <td>250</td>\n",
       "      <td>2080</td>\n",
       "      <td>9</td>\n",
       "      <td>С-Петербург</td>\n",
       "      <td>1</td>\n",
       "      <td>1</td>\n",
       "      <td>3</td>\n",
       "      <td>0</td>\n",
       "      <td>0</td>\n",
       "      <td>1</td>\n",
       "      <td>0</td>\n",
       "      <td>1</td>\n",
       "      <td>2</td>\n",
       "      <td>2,3</td>\n",
       "      <td>54</td>\n",
       "      <td>1</td>\n",
       "      <td>144</td>\n",
       "    </tr>\n",
       "    <tr>\n",
       "      <th>22</th>\n",
       "      <td>747</td>\n",
       "      <td>102</td>\n",
       "      <td>250</td>\n",
       "      <td>2075</td>\n",
       "      <td>9</td>\n",
       "      <td>С-Петербург</td>\n",
       "      <td>1</td>\n",
       "      <td>1</td>\n",
       "      <td>3</td>\n",
       "      <td>0</td>\n",
       "      <td>0</td>\n",
       "      <td>1</td>\n",
       "      <td>0</td>\n",
       "      <td>1</td>\n",
       "      <td>2</td>\n",
       "      <td>2,3</td>\n",
       "      <td>54</td>\n",
       "      <td>1</td>\n",
       "      <td>144</td>\n",
       "    </tr>\n",
       "    <tr>\n",
       "      <th>23</th>\n",
       "      <td>748</td>\n",
       "      <td>102</td>\n",
       "      <td>250</td>\n",
       "      <td>2075</td>\n",
       "      <td>9</td>\n",
       "      <td>С-Петербург</td>\n",
       "      <td>1</td>\n",
       "      <td>1</td>\n",
       "      <td>3</td>\n",
       "      <td>0</td>\n",
       "      <td>0</td>\n",
       "      <td>1</td>\n",
       "      <td>0</td>\n",
       "      <td>1</td>\n",
       "      <td>2</td>\n",
       "      <td>2,3</td>\n",
       "      <td>54</td>\n",
       "      <td>1</td>\n",
       "      <td>144</td>\n",
       "    </tr>\n",
       "    <tr>\n",
       "      <th>24</th>\n",
       "      <td>749</td>\n",
       "      <td>102</td>\n",
       "      <td>250</td>\n",
       "      <td>2075</td>\n",
       "      <td>9</td>\n",
       "      <td>С-Петербург</td>\n",
       "      <td>1</td>\n",
       "      <td>1</td>\n",
       "      <td>3</td>\n",
       "      <td>0</td>\n",
       "      <td>0</td>\n",
       "      <td>1</td>\n",
       "      <td>0</td>\n",
       "      <td>1</td>\n",
       "      <td>2</td>\n",
       "      <td>2,3</td>\n",
       "      <td>54</td>\n",
       "      <td>1</td>\n",
       "      <td>144</td>\n",
       "    </tr>\n",
       "    <tr>\n",
       "      <th>25</th>\n",
       "      <td>750</td>\n",
       "      <td>102</td>\n",
       "      <td>250</td>\n",
       "      <td>2075</td>\n",
       "      <td>9</td>\n",
       "      <td>С-Петербург</td>\n",
       "      <td>1</td>\n",
       "      <td>1</td>\n",
       "      <td>3</td>\n",
       "      <td>0</td>\n",
       "      <td>0</td>\n",
       "      <td>1</td>\n",
       "      <td>0</td>\n",
       "      <td>1</td>\n",
       "      <td>2</td>\n",
       "      <td>2,3</td>\n",
       "      <td>54</td>\n",
       "      <td>1</td>\n",
       "      <td>144</td>\n",
       "    </tr>\n",
       "    <tr>\n",
       "      <th>26</th>\n",
       "      <td>769</td>\n",
       "      <td>106</td>\n",
       "      <td>250</td>\n",
       "      <td>2080</td>\n",
       "      <td>9</td>\n",
       "      <td>С-Петербург</td>\n",
       "      <td>1</td>\n",
       "      <td>1</td>\n",
       "      <td>3</td>\n",
       "      <td>0</td>\n",
       "      <td>0</td>\n",
       "      <td>1</td>\n",
       "      <td>0</td>\n",
       "      <td>1</td>\n",
       "      <td>2</td>\n",
       "      <td>2,3</td>\n",
       "      <td>54</td>\n",
       "      <td>1</td>\n",
       "      <td>144</td>\n",
       "    </tr>\n",
       "    <tr>\n",
       "      <th>27</th>\n",
       "      <td>106</td>\n",
       "      <td>106</td>\n",
       "      <td>250</td>\n",
       "      <td>2080</td>\n",
       "      <td>9</td>\n",
       "      <td>С-Петербург</td>\n",
       "      <td>1</td>\n",
       "      <td>1</td>\n",
       "      <td>3</td>\n",
       "      <td>0</td>\n",
       "      <td>0</td>\n",
       "      <td>1</td>\n",
       "      <td>0</td>\n",
       "      <td>1</td>\n",
       "      <td>2</td>\n",
       "      <td>2,3</td>\n",
       "      <td>54</td>\n",
       "      <td>1</td>\n",
       "      <td>144</td>\n",
       "    </tr>\n",
       "    <tr>\n",
       "      <th>28</th>\n",
       "      <td>770</td>\n",
       "      <td>106</td>\n",
       "      <td>250</td>\n",
       "      <td>2080</td>\n",
       "      <td>9</td>\n",
       "      <td>С-Петербург</td>\n",
       "      <td>1</td>\n",
       "      <td>1</td>\n",
       "      <td>3</td>\n",
       "      <td>0</td>\n",
       "      <td>0</td>\n",
       "      <td>1</td>\n",
       "      <td>0</td>\n",
       "      <td>1</td>\n",
       "      <td>2</td>\n",
       "      <td>2,3</td>\n",
       "      <td>54</td>\n",
       "      <td>1</td>\n",
       "      <td>144</td>\n",
       "    </tr>\n",
       "  </tbody>\n",
       "</table>\n",
       "</div>"
      ],
      "text/plain": [
       "    index  Номер(i)  Толщ.  Шир.  Диапазон изменения d от 1          ПОРТ  \\\n",
       "18    771       106    250  2080                          9   С-Петербург   \n",
       "19     78        78    250  1850                          9  Новороссийск   \n",
       "20    102       102    250  2075                          9   С-Петербург   \n",
       "21    768       106    250  2080                          9   С-Петербург   \n",
       "22    747       102    250  2075                          9   С-Петербург   \n",
       "23    748       102    250  2075                          9   С-Петербург   \n",
       "24    749       102    250  2075                          9   С-Петербург   \n",
       "25    750       102    250  2075                          9   С-Петербург   \n",
       "26    769       106    250  2080                          9   С-Петербург   \n",
       "27    106       106    250  2080                          9   С-Петербург   \n",
       "28    770       106    250  2080                          9   С-Петербург   \n",
       "\n",
       "    АПК  Плавок(окр)  Разрядов(L_i)  У6  У7  У8  У9 Fix  У9  Подходит УНРС  \\\n",
       "18    1            1              3   0   0   1       0   1              2   \n",
       "19    1            1              0   1   1   1       0   1              4   \n",
       "20    1            1              3   0   0   1       0   1              2   \n",
       "21    1            1              3   0   0   1       0   1              2   \n",
       "22    1            1              3   0   0   1       0   1              2   \n",
       "23    1            1              3   0   0   1       0   1              2   \n",
       "24    1            1              3   0   0   1       0   1              2   \n",
       "25    1            1              3   0   0   1       0   1              2   \n",
       "26    1            1              3   0   0   1       0   1              2   \n",
       "27    1            1              3   0   0   1       0   1              2   \n",
       "28    1            1              3   0   0   1       0   1              2   \n",
       "\n",
       "   Диапазон изменения k  Число переменных  Номер толщины(H_i)  imax  \n",
       "18                  2,3                54                   1   144  \n",
       "19              0,1,2,3                 0                   1   144  \n",
       "20                  2,3                54                   1   144  \n",
       "21                  2,3                54                   1   144  \n",
       "22                  2,3                54                   1   144  \n",
       "23                  2,3                54                   1   144  \n",
       "24                  2,3                54                   1   144  \n",
       "25                  2,3                54                   1   144  \n",
       "26                  2,3                54                   1   144  \n",
       "27                  2,3                54                   1   144  \n",
       "28                  2,3                54                   1   144  "
      ]
     },
     "execution_count": 6,
     "metadata": {},
     "output_type": "execute_result"
    }
   ],
   "source": [
    "df[df[\"imax\"]>80]"
   ]
  },
  {
   "cell_type": "code",
   "execution_count": 7,
   "id": "637ea902",
   "metadata": {},
   "outputs": [],
   "source": [
    "# Array for thicknesses by number of heat\n",
    "w_numbers = df[\"Номер толщины(H_i)\"].to_numpy()\n",
    "# Array for imax\n",
    "j_imax = df[\"imax\"].to_numpy() "
   ]
  },
  {
   "cell_type": "code",
   "execution_count": 8,
   "id": "6e766052",
   "metadata": {},
   "outputs": [],
   "source": [
    "from amplify import (\n",
    "    BinaryPoly,\n",
    "    BinaryQuadraticModel,\n",
    "    sum_poly,pair_sum,\n",
    "    gen_symbols,\n",
    "    Solver,\n",
    "    decode_solution,\n",
    ")\n",
    "from amplify import Solver\n",
    "from amplify.client import FixstarsClient\n",
    "#from amplify.client.ocean import DWaveSamplerClient\n",
    "from amplify.constraint import less_equal, equal_to, penalty\n",
    "\n",
    "def flatten(t):\n",
    "    return [item for sublist in t for item in sublist]\n",
    "\n",
    "client = FixstarsClient()\n",
    "client.token = \"LvfkonaT7sLymsCqHyyQUp7JxHlo02CF\"\n",
    "client.parameters.timeout = 20000  # Timeout is 60 seconds\n",
    "\n",
    "solver = Solver(client)"
   ]
  },
  {
   "cell_type": "code",
   "execution_count": 29,
   "id": "403f6fda",
   "metadata": {},
   "outputs": [],
   "source": [
    "n = 80 #Number of timeslots for 5 days\n",
    "#n = 40\n",
    "m = 795 #Number of heats\n",
    "#m = 360\n",
    "w = 6 #Number of thicknesses\n",
    "w_max = [3,4,0,1,1,1] #Max thicknesses per UNRS\n",
    "\n",
    "x = gen_symbols(BinaryPoly,m,n) #Variable x - heat for timeslot\n"
   ]
  },
  {
   "cell_type": "code",
   "execution_count": 30,
   "id": "d6d6861c",
   "metadata": {},
   "outputs": [],
   "source": [
    "# Condition for min(n, imax[j])\n",
    "for j in range (m):\n",
    "    if (df.loc[j, \"imax\"]<n):\n",
    "        for i in range (df.loc[j, \"imax\"], n):\n",
    "            x[j][i]=0"
   ]
  },
  {
   "cell_type": "code",
   "execution_count": null,
   "id": "40122cd6",
   "metadata": {},
   "outputs": [],
   "source": [
    "# 5.1. В одном слоте 4 плавки по кол-ву УНРС\n",
    "#A = 1 #Coeff\n",
    "#H1 = A * sum_poly(n, lambda i: (4-sum_poly(m, lambda j:(x[j][i])))**2)"
   ]
  },
  {
   "cell_type": "code",
   "execution_count": null,
   "id": "d1ab708b",
   "metadata": {},
   "outputs": [],
   "source": [
    "#H1.count()"
   ]
  },
  {
   "cell_type": "code",
   "execution_count": 31,
   "id": "fec42110",
   "metadata": {},
   "outputs": [],
   "source": [
    "# Либо для 5.1. Constraints on columns\n",
    "col_constraints = [\n",
    "    equal_to(sum_poly([x[j][i] for j in range(m)]), 4) for i in range(n)\n",
    "]"
   ]
  },
  {
   "cell_type": "code",
   "execution_count": 32,
   "id": "cfb4bebb",
   "metadata": {},
   "outputs": [],
   "source": [
    "H1_constr = sum(col_constraints)"
   ]
  },
  {
   "cell_type": "code",
   "execution_count": 33,
   "id": "f7fc8f14",
   "metadata": {},
   "outputs": [],
   "source": [
    "# 5.2 Deadline\n",
    "S = [int(df.loc[j,\"imax\"]<=n) for j in range(m)] #плавка должна быть разлита обязательно - взять из df\n",
    "B=1\n",
    "R = 1"
   ]
  },
  {
   "cell_type": "code",
   "execution_count": 34,
   "id": "44557d7d",
   "metadata": {},
   "outputs": [],
   "source": [
    "H2_0 = sum_poly(m, lambda j: S[j]*(1 - sum_poly(n, lambda i:(x[j][i])))**2)"
   ]
  },
  {
   "cell_type": "code",
   "execution_count": null,
   "id": "c04cfed6",
   "metadata": {},
   "outputs": [],
   "source": [
    "#H2_1 = sum_poly(m, lambda j:(1 - S[j]*pair_sum(n, lambda i:(x[j][i]))))"
   ]
  },
  {
   "cell_type": "code",
   "execution_count": 35,
   "id": "b98375e7",
   "metadata": {},
   "outputs": [],
   "source": [
    "# Либо для 5.2 H2_1 Constraints on rows\n",
    "row_constraints = 0\n",
    "for j in range(m):\n",
    "    if (1-S[j]):\n",
    "        row_constraints += less_equal(sum_poly([x[j][i] for i in range(n)]), 1)\n",
    "\n",
    "H2_1_constr = sum(row_constraints)"
   ]
  },
  {
   "cell_type": "code",
   "execution_count": 36,
   "id": "f6c4a819",
   "metadata": {},
   "outputs": [],
   "source": [
    "H2 = B*H2_0 + R*H2_1_constr"
   ]
  },
  {
   "cell_type": "code",
   "execution_count": 37,
   "id": "78dd3941",
   "metadata": {},
   "outputs": [
    {
     "data": {
      "text/plain": [
       "62736"
      ]
     },
     "execution_count": 37,
     "metadata": {},
     "output_type": "execute_result"
    }
   ],
   "source": [
    "H2.num_logical_vars"
   ]
  },
  {
   "cell_type": "code",
   "execution_count": 40,
   "id": "f65fd26f",
   "metadata": {},
   "outputs": [],
   "source": [
    "# 5.3 Ограничение на количество плавок одной толщины в каждом ts\n",
    "w_sum = [[0 for x in range(w)] for y in range(n)] #array for sums of each thickness for each ts\n",
    "#constr_w = 0\n",
    "# Number of heats for each thickness for each ts\n",
    "# !! ошибочный прогон\n",
    "# for i in range(n):\n",
    "#    for w_ind in range(w):\n",
    "#        label = \"Thickness \"+str(w_ind)+\" for ts\" + str(i)\n",
    "#        #print(w_numbers[j])\n",
    "#        if (w_numbers[j]==w_ind):\n",
    "#            for j in range(m):\n",
    "#                w_sum[i][w_ind]+= (int(w_numbers[j]==w_ind))*x[j][i]\n",
    "#                #print(\"!\")   \n",
    "#        if w_sum[i][w_ind]!=0:\n",
    "#            #print(w_sum[i][w_ind])\n",
    "#            constr_w += less_equal(w_sum[i][w_ind], w_max[w_ind], label=label) \n",
    "for i in range(n):\n",
    "    for w_ind in range(w):\n",
    "        label = \"Thickness \"+str(w_ind)+\" for ts\" + str(i)\n",
    "        for j in range(m):\n",
    "            w_sum[i][w_ind]+= (int(w_numbers[j]==w_ind))*x[j][i]\n",
    "        #constr_w += less_equal(w_sum[i][w_ind], w_max[w_ind], label=label)"
   ]
  },
  {
   "cell_type": "code",
   "execution_count": null,
   "id": "9d7d807a",
   "metadata": {},
   "outputs": [],
   "source": [
    "x_w0 = gen_symbols(BinaryPoly,n*m,(w_max[0]+1,n))\n",
    "x_w1 = gen_symbols(BinaryPoly,n*m+len(x_w0)*n,(w_max[1]+1,n))\n",
    "x_w2 = gen_symbols(BinaryPoly,n*m+(len(x_w0)+len(x_w1))*n,(w_max[2]+1,n))\n",
    "x_w3 = gen_symbols(BinaryPoly,n*m+(len(x_w0)+len(x_w1)+len(x_w2))*n,(w_max[3]+1,n))\n",
    "x_w4 = gen_symbols(BinaryPoly,n*m+(len(x_w0)+len(x_w1)+len(x_w2)+len(x_w3))*n,(w_max[4]+1,n))\n",
    "x_w5 = gen_symbols(BinaryPoly,n*m+(len(x_w0)+len(x_w1)+len(x_w2)+len(x_w3)+len(x_w4))*n,(w_max[5]+1,n))"
   ]
  },
  {
   "cell_type": "code",
   "execution_count": null,
   "id": "9c9ab13b",
   "metadata": {},
   "outputs": [],
   "source": [
    "def h3_w(w_num, i_ind, x_w):\n",
    "    H3_i_w = 0\n",
    "    H3_i_w += w_sum[i_ind][w_num]\n",
    "    for ww in range (1, w_max[w_ind]+1):\n",
    "        H3_i_w +=ww*x_w[ww][i_ind]\n",
    "    H3_i_w = (H3_i_w - w_max[w_ind])**2 \n",
    "    return(H3_i_w)\n",
    "    \n",
    "H3 = 0\n",
    "for i in range (n):\n",
    "    for w_ind in range(w):\n",
    "        if (w_ind == 0): \n",
    "            H3+=h3_w(w_ind, i, x_w0)\n",
    "        elif (w_ind == 1): \n",
    "            H3+=h3_w(w_ind, i, x_w1)\n",
    "        elif (w_ind == 2): \n",
    "            H3+=h3_w(w_ind, i, x_w2)  \n",
    "        elif (w_ind == 3): \n",
    "            H3+=h3_w(w_ind, i, x_w3)\n",
    "        elif (w_ind == 4): \n",
    "            H3+=h3_w(w_ind, i, x_w4)\n",
    "        elif (w_ind == 5): \n",
    "            H3+=h3_w(w_ind, i, x_w5)"
   ]
  },
  {
   "cell_type": "code",
   "execution_count": 41,
   "id": "83acc2e3",
   "metadata": {},
   "outputs": [],
   "source": [
    "#Create array x_w_full for slack variables\n",
    "x_w_full = []\n",
    "x_w_start = n*m\n",
    "for w_ind in range(w):\n",
    "    w_max_ind = w_max[w_ind]+1\n",
    "    x_w_full.append(gen_symbols(BinaryPoly, x_w_start, (w_max_ind,n)))\n",
    "    x_w_start += w_max_ind*n\n",
    "        "
   ]
  },
  {
   "cell_type": "code",
   "execution_count": 42,
   "id": "c2d945d5",
   "metadata": {},
   "outputs": [],
   "source": [
    "H3 = 0\n",
    "x_w_start = n*m\n",
    "for i in range (n):\n",
    "    for w_ind in range(w):\n",
    "        H3_i_w = 0\n",
    "        H3_i_w += w_sum[i][w_ind]\n",
    "        for ww in range (1, w_max[w_ind]+1):\n",
    "            x_w_start += ww\n",
    "            H3_i_w +=ww*x_w_full[w_ind][ww][i]\n",
    "        x_w_start += w_max[w_ind]*n    \n",
    "        H3_i_w = (H3_i_w - w_max[w_ind])**2 \n",
    "        H3+=H3_i_w   "
   ]
  },
  {
   "cell_type": "code",
   "execution_count": 43,
   "id": "7b1a4279",
   "metadata": {},
   "outputs": [
    {
     "data": {
      "text/plain": [
       "11864945"
      ]
     },
     "execution_count": 43,
     "metadata": {},
     "output_type": "execute_result"
    }
   ],
   "source": [
    "H3.count()"
   ]
  },
  {
   "cell_type": "code",
   "execution_count": null,
   "id": "6428da79",
   "metadata": {},
   "outputs": [],
   "source": [
    "#H3 = sum(constr_w)"
   ]
  },
  {
   "cell_type": "code",
   "execution_count": null,
   "id": "aee964db",
   "metadata": {},
   "outputs": [],
   "source": [
    "# H4 APK(L) ACV(V)\n",
    "K = 1 #Coeff\n",
    "L = []\n",
    "V = [] # TBD\n",
    "H4 = 0\n",
    "for j in range (m):\n",
    "    L.append(df.loc[j,\"АПК\"])   \n",
    "for i in range(n):\n",
    "    H4 += less_equal(sum_poly(m, lambda j:(L[j]*x[j][i])), 2)\n",
    "H4 = K*sum(H4)    "
   ]
  },
  {
   "cell_type": "code",
   "execution_count": null,
   "id": "a21702e5",
   "metadata": {},
   "outputs": [],
   "source": [
    "# 5.5 Логистические расходы\n",
    "F = 1 #Coeff\n",
    "H5 = F*(sum_poly(m, lambda j: (j_imax[j] - sum_poly(n, lambda i:(i*x[j][i])))**2))"
   ]
  },
  {
   "cell_type": "code",
   "execution_count": null,
   "id": "7f265909",
   "metadata": {},
   "outputs": [],
   "source": [
    "# 5.6 Перенастройки по толщине\n",
    "# Для каждой толщины считаем, сколько плавок данной толщины делалось в соседних ts. Минимизируем дельту\n",
    "# We can use array w_sum = [[0 for x in range(w)] for y in range(n)]\n",
    "Q = 1\n",
    "delta_w = 0\n",
    "w_delta = []\n",
    "for i in range (n-1):\n",
    "    for w_ind in range(w):\n",
    "        label = \"Delta thickness \"+str(w_ind)+\" for ts\" + str(i)\n",
    "        if (w_sum[i+1][w_ind]!=0 or w_sum[i+1][w_ind]!=0):\n",
    "            w_delta.append(penalty(0.5*((w_sum[i+1][w_ind] - w_sum[i][w_ind])**2), label))     \n",
    "H6 = Q*sum(w_delta)       "
   ]
  },
  {
   "cell_type": "code",
   "execution_count": null,
   "id": "6172629c",
   "metadata": {},
   "outputs": [],
   "source": [
    "len(H6)"
   ]
  },
  {
   "cell_type": "code",
   "execution_count": null,
   "id": "8d053dee",
   "metadata": {},
   "outputs": [],
   "source": [
    "H = H5 + H2_0 + H1_constr + H2_1_constr + H3 + H4 + H6"
   ]
  },
  {
   "cell_type": "code",
   "execution_count": 44,
   "id": "ff512eed",
   "metadata": {},
   "outputs": [],
   "source": [
    "model = H3 + H2_0 + H1_constr + H2_1_constr"
   ]
  },
  {
   "cell_type": "code",
   "execution_count": 45,
   "id": "f6603925",
   "metadata": {},
   "outputs": [
    {
     "data": {
      "text/plain": [
       "63536"
      ]
     },
     "execution_count": 45,
     "metadata": {},
     "output_type": "execute_result"
    }
   ],
   "source": [
    "model.num_logical_vars"
   ]
  },
  {
   "cell_type": "code",
   "execution_count": null,
   "id": "d3ba4484",
   "metadata": {},
   "outputs": [],
   "source": [
    "result = solver.solve(model)\n",
    "if len(result) == 0:\n",
    "    raise RuntimeError(\"Any one of constraints is not satisfied.\")\n",
    "\n",
    "energy, values = result[0].energy, result[0].values\n",
    "\n",
    "x_values = decode_solution(x, values)\n",
    "\n",
    "print(energy)\n",
    "    \n",
    "x_values_array = np.asarray(x_values, dtype = np.int32)\n",
    "np.savetxt(\"slabs-\"+str(pd.Timestamp.now())+\".csv\", x_values_array, fmt='%i', delimiter=\",\")"
   ]
  },
  {
   "cell_type": "code",
   "execution_count": null,
   "id": "4baac695",
   "metadata": {},
   "outputs": [],
   "source": [
    "for i in range (n):\n",
    "    print(\"Timeslot \", i)\n",
    "    for j in range(m):\n",
    "        if (x_values[j][i]):\n",
    "            print(\"Heat \", j)\n",
    "            print (\"Thickness \", w_numbers[j])\n",
    "            print (x_values[j][i])\n",
    "    \n",
    "    "
   ]
  },
  {
   "cell_type": "code",
   "execution_count": 26,
   "id": "97b6157b",
   "metadata": {},
   "outputs": [
    {
     "data": {
      "text/plain": [
       "19730"
      ]
     },
     "execution_count": 26,
     "metadata": {},
     "output_type": "execute_result"
    }
   ],
   "source": [
    "client_result = solver.client_result\n",
    "client_result.annealing_time_ms"
   ]
  },
  {
   "cell_type": "code",
   "execution_count": 27,
   "id": "897b0586",
   "metadata": {},
   "outputs": [
    {
     "data": {
      "text/plain": [
       "2545.650934000001"
      ]
     },
     "execution_count": 27,
     "metadata": {},
     "output_type": "execute_result"
    }
   ],
   "source": [
    "client_result.timing.cpu_time"
   ]
  },
  {
   "cell_type": "code",
   "execution_count": null,
   "id": "6609f897",
   "metadata": {},
   "outputs": [],
   "source": [
    "x_values_array = np.asarray(x_values, dtype = np.int32)\n",
    "np.savetxt(\"slabs-\"+str(pd.Timestamp.now())+\".csv\", x_values_array, fmt='%i', delimiter=\",\")"
   ]
  },
  {
   "cell_type": "code",
   "execution_count": null,
   "id": "fcace2c5",
   "metadata": {},
   "outputs": [],
   "source": [
    "def get_assignments(x_ij, rng=40):\n",
    "    casts_assign = [[] for y in range(rng)]\n",
    "    cast = 0\n",
    "    for c in x_ij:\n",
    "        if 1 in c:\n",
    "            casts_assign[list(c).index(1)].append(cast)\n",
    "        cast += 1\n",
    "    return casts_assign\n",
    "\n",
    "def get_thickness_by_cast_num(c):\n",
    "    return df[\"Номер толщины(H_i)\"][c]\n",
    "\n",
    "#xij = np.loadtxt(open('/home/eugene/__Work/Slabs/Code/slabs-2021-11-09 00 01 03.398912.csv', \"r\"), delimiter=\",\")  # or just take the decoded solution 2D-array\n",
    "\n",
    "casts_assign = get_assignments(x_values)\n",
    "print(casts_assign)\n",
    "\n",
    "thickness_assign = [list(map(get_thickness_by_cast_num, slot)) for slot in casts_assign]\n",
    "print(thickness_assign)"
   ]
  },
  {
   "cell_type": "code",
   "execution_count": null,
   "id": "1c58bfa1",
   "metadata": {},
   "outputs": [],
   "source": [
    "def check_thickness_assign(d):\n",
    "    if d[0] > 3:\n",
    "        print('Thickness 0 casts number violation')\n",
    "    if d[1] > 4:\n",
    "        print('Thickness 1 casts number violation')\n",
    "    if d[2] > 0:\n",
    "        print('Thickness 2 casts number violation')\n",
    "    if d[3] > 1:\n",
    "        print('Thickness 3 casts number violation')\n",
    "    if d[4] > 1:\n",
    "        print('Thickness 4 casts number violation')\n",
    "    if d[5] > 1:\n",
    "        print('Thickness 5 casts number violation')\n",
    "    else:\n",
    "        print(\"Ok\")\n",
    "\n",
    "slot_num = 0\n",
    "for slot in thickness_assign:\n",
    "    d = {0:0, 1:0, 2:0, 3:0, 4:0, 5:0}\n",
    "    for thickness in slot:\n",
    "        d[thickness] += 1\n",
    "    print(str(d) + 'in slot ' + str(slot_num))\n",
    "    check_thickness_assign(d)\n",
    "\n",
    "    slot_num += 1"
   ]
  },
  {
   "cell_type": "code",
   "execution_count": null,
   "id": "14f76b71",
   "metadata": {},
   "outputs": [],
   "source": [
    "len(x_values[0])"
   ]
  },
  {
   "cell_type": "code",
   "execution_count": null,
   "id": "36d62ba6",
   "metadata": {},
   "outputs": [],
   "source": []
  }
 ],
 "metadata": {
  "kernelspec": {
   "display_name": "Python 3",
   "language": "python",
   "name": "python3"
  },
  "language_info": {
   "codemirror_mode": {
    "name": "ipython",
    "version": 3
   },
   "file_extension": ".py",
   "mimetype": "text/x-python",
   "name": "python",
   "nbconvert_exporter": "python",
   "pygments_lexer": "ipython3",
   "version": "3.9.5"
  }
 },
 "nbformat": 4,
 "nbformat_minor": 5
}
