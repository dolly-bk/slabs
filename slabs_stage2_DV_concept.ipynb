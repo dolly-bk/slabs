{
 "cells": [
  {
   "cell_type": "code",
   "execution_count": null,
   "id": "41b9b6a6",
   "metadata": {},
   "outputs": [],
   "source": [
    "import pandas as pd\n",
    "import numpy as np\n",
    "data_path = \"July2021_for_test.xlsx\"\n",
    "df = pd.read_excel(data_path, usecols=\"A:Q\", engine=\"openpyxl\")\n",
    "print(df[\"Плавок(окр)\"].sum())"
   ]
  },
  {
   "cell_type": "code",
   "execution_count": null,
   "id": "e4ab75d9",
   "metadata": {},
   "outputs": [],
   "source": [
    "index = np.where (df[\"Плавок(окр)\"] >=2)\n",
    "for i in index[0]:\n",
    "    count = df.iloc[i][\"Плавок(окр)\"]\n",
    "    #print(count)\n",
    "    #remain = df.at[i, \"Плавок(окр)\"]%18\n",
    "    df.at[i, \"Плавок(окр)\"] = 1\n",
    "    count -=1\n",
    "    while(count>0):\n",
    "        df1 = df.loc[[i],:]\n",
    "        df1[\"Плавок(окр)\"] = 1\n",
    "        df = pd.concat([df, df1], ignore_index=True)\n",
    "        count-=1\n",
    "        \n",
    "#    df1 = df.loc[[i],:]\n",
    "#    df1[\"Плавок(окр)\"] = remain\n",
    "#    df = pd.concat([df, df1], ignore_index=True)"
   ]
  },
  {
   "cell_type": "code",
   "execution_count": null,
   "id": "38d5f918",
   "metadata": {},
   "outputs": [],
   "source": [
    "df[\"imax\"] = df[\"Диапазон изменения d от 1\"]*16"
   ]
  },
  {
   "cell_type": "code",
   "execution_count": null,
   "id": "e52e7f4e",
   "metadata": {},
   "outputs": [],
   "source": [
    "df = df.sort_values(by=[\"Диапазон изменения d от 1\"]).reset_index()"
   ]
  },
  {
   "cell_type": "code",
   "execution_count": null,
   "id": "ecb13cf7",
   "metadata": {},
   "outputs": [],
   "source": [
    "df.loc[df[\"imax\"] ==80, \"imax\"]=32\n",
    "df.loc[df[\"imax\"] ==240, \"imax\"]=80"
   ]
  },
  {
   "cell_type": "code",
   "execution_count": null,
   "id": "e9f8cad0",
   "metadata": {},
   "outputs": [],
   "source": [
    "df[df[\"imax\"]>80]"
   ]
  },
  {
   "cell_type": "code",
   "execution_count": null,
   "id": "637ea902",
   "metadata": {},
   "outputs": [],
   "source": [
    "# Array for thicknesses by number of heat\n",
    "w_numbers = df[\"Номер толщины(H_i)\"].to_numpy()\n",
    "# Array for imax\n",
    "j_imax = df[\"imax\"].to_numpy() "
   ]
  },
  {
   "cell_type": "code",
   "execution_count": null,
   "id": "6e766052",
   "metadata": {},
   "outputs": [],
   "source": [
    "from amplify import (\n",
    "    BinaryPoly,\n",
    "    BinaryQuadraticModel,\n",
    "    sum_poly,pair_sum,\n",
    "    gen_symbols,\n",
    "    Solver,\n",
    "    decode_solution,\n",
    ")\n",
    "from amplify import Solver\n",
    "from amplify.client import FixstarsClient\n",
    "#from amplify.client.ocean import DWaveSamplerClient\n",
    "from amplify.constraint import less_equal, equal_to, penalty\n",
    "\n",
    "def flatten(t):\n",
    "    return [item for sublist in t for item in sublist]\n",
    "\n",
    "client = FixstarsClient()\n",
    "client.token = \"XXXXXXXXXXXXXXXXXXXXXXXXXXXXXXXXXXXX\"\n",
    "client.parameters.timeout = 60000  # Timeout is 60 seconds\n",
    "\n",
    "solver = Solver(client)"
   ]
  },
  {
   "cell_type": "code",
   "execution_count": null,
   "id": "403f6fda",
   "metadata": {},
   "outputs": [],
   "source": [
    "n = 80 #Number of timeslots for 5 days\n",
    "#n = 40\n",
    "m = 795 #Number of heats\n",
    "#m = 360\n",
    "w = 6 #Number of thicknesses\n",
    "w_max = [3,4,0,1,1,1] #Max thicknesses per UNRS\n",
    "\n",
    "x = gen_symbols(BinaryPoly,m,n) #Variable x - heat for timeslot"
   ]
  },
  {
   "cell_type": "code",
   "execution_count": null,
   "id": "d6d6861c",
   "metadata": {},
   "outputs": [],
   "source": [
    "# Condition for min(n, imax[j])\n",
    "for j in range (m):\n",
    "    if (df.loc[j, \"imax\"]<n):\n",
    "        for i in range (df.loc[j, \"imax\"], n):\n",
    "            x[j][i]=0"
   ]
  },
  {
   "cell_type": "code",
   "execution_count": null,
   "id": "40122cd6",
   "metadata": {},
   "outputs": [],
   "source": [
    "# 5.1. В одном слоте 4 плавки по кол-ву УНРС\n",
    "#A = 1 #Coeff\n",
    "#H1 = A * sum_poly(n, lambda i: (4-sum_poly(m, lambda j:(x[j][i])))**2)"
   ]
  },
  {
   "cell_type": "code",
   "execution_count": null,
   "id": "d1ab708b",
   "metadata": {},
   "outputs": [],
   "source": [
    "#H1.count()"
   ]
  },
  {
   "cell_type": "code",
   "execution_count": null,
   "id": "fec42110",
   "metadata": {},
   "outputs": [],
   "source": [
    "# Либо для 5.1. Constraints on columns\n",
    "col_constraints = [\n",
    "    equal_to(sum_poly([x[j][i] for j in range(m)]), 4) for i in range(n)\n",
    "]"
   ]
  },
  {
   "cell_type": "code",
   "execution_count": null,
   "id": "cfb4bebb",
   "metadata": {},
   "outputs": [],
   "source": [
    "H1_constr = sum(col_constraints)"
   ]
  },
  {
   "cell_type": "code",
   "execution_count": null,
   "id": "f7fc8f14",
   "metadata": {},
   "outputs": [],
   "source": [
    "# 5.2 Deadline\n",
    "S = [int(df.loc[j,\"imax\"]<=n) for j in range(m)] #плавка должна быть разлита обязательно - взять из df\n",
    "B=1\n",
    "R = 1"
   ]
  },
  {
   "cell_type": "code",
   "execution_count": null,
   "id": "44557d7d",
   "metadata": {},
   "outputs": [],
   "source": [
    "H2_0 = sum_poly(m, lambda j: S[j]*(1 - sum_poly(n, lambda i:(x[j][i])))**2)"
   ]
  },
  {
   "cell_type": "code",
   "execution_count": null,
   "id": "c04cfed6",
   "metadata": {},
   "outputs": [],
   "source": [
    "#H2_1 = sum_poly(m, lambda j:(1 - S[j]*pair_sum(n, lambda i:(x[j][i]))))"
   ]
  },
  {
   "cell_type": "code",
   "execution_count": null,
   "id": "b98375e7",
   "metadata": {},
   "outputs": [],
   "source": [
    "# Либо для 5.2 H2_1 Constraints on rows\n",
    "row_constraints = 0\n",
    "for j in range(m):\n",
    "    if (1-S[j]):\n",
    "        row_constraints += less_equal(sum_poly([x[j][i] for i in range(n)]), 1)\n",
    "\n",
    "H2_1_constr = sum(row_constraints)"
   ]
  },
  {
   "cell_type": "code",
   "execution_count": null,
   "id": "f6c4a819",
   "metadata": {},
   "outputs": [],
   "source": [
    "#H2 = B*H2_0 + R*H2_1_constr"
   ]
  },
  {
   "cell_type": "code",
   "execution_count": null,
   "id": "78dd3941",
   "metadata": {},
   "outputs": [],
   "source": [
    "#H2.num_logical_vars"
   ]
  },
  {
   "cell_type": "code",
   "execution_count": null,
   "id": "f65fd26f",
   "metadata": {},
   "outputs": [],
   "source": [
    "# 5.3 Ограничение на количество плавок одной толщины в каждом ts\n",
    "w_sum = [[0 for x in range(w)] for y in range(n)] #array for sums of each thickness for each ts\n",
    "#constr_w = 0\n",
    "# Number of heats for each thickness for each ts\n",
    "# !! ошибочный прогон\n",
    "# for i in range(n):\n",
    "#    for w_ind in range(w):\n",
    "#        label = \"Thickness \"+str(w_ind)+\" for ts\" + str(i)\n",
    "#        #print(w_numbers[j])\n",
    "#        if (w_numbers[j]==w_ind):\n",
    "#            for j in range(m):\n",
    "#                w_sum[i][w_ind]+= (int(w_numbers[j]==w_ind))*x[j][i]\n",
    "#                #print(\"!\")   \n",
    "#        if w_sum[i][w_ind]!=0:\n",
    "#            #print(w_sum[i][w_ind])\n",
    "#            constr_w += less_equal(w_sum[i][w_ind], w_max[w_ind], label=label) \n",
    "for i in range(n):\n",
    "    for w_ind in range(w):\n",
    "        label = \"Thickness \"+str(w_ind)+\" for ts\" + str(i)\n",
    "        for j in range(m):\n",
    "            w_sum[i][w_ind]+= (int(w_numbers[j]==w_ind))*x[j][i]\n",
    "        #constr_w += less_equal(w_sum[i][w_ind], w_max[w_ind], label=label)"
   ]
  },
  {
   "cell_type": "code",
   "execution_count": null,
   "id": "c50fcd3f",
   "metadata": {},
   "outputs": [],
   "source": [
    "#Create array x_w_full for slack variables\n",
    "x_w_full = []\n",
    "x_w_start = n*m\n",
    "for w_ind in range(w):\n",
    "    w_max_ind = w_max[w_ind]+1\n",
    "    x_w_full.append(gen_symbols(BinaryPoly, x_w_start, (w_max_ind,n)))\n",
    "    x_w_start += w_max_ind*n\n",
    "        "
   ]
  },
  {
   "cell_type": "code",
   "execution_count": null,
   "id": "74730804",
   "metadata": {},
   "outputs": [],
   "source": [
    "H3 = 0\n",
    "x_w_start = n*m\n",
    "for i in range (n):\n",
    "    for w_ind in range(w):\n",
    "        H3_i_w = 0\n",
    "        H3_i_w += w_sum[i][w_ind]\n",
    "        for ww in range (1, w_max[w_ind]+1):\n",
    "            x_w_start += ww\n",
    "            H3_i_w +=ww*x_w_full[w_ind][ww][i]\n",
    "        x_w_start += w_max[w_ind]*n    \n",
    "        H3_i_w = (H3_i_w - w_max[w_ind])**2 \n",
    "        H3+=H3_i_w   "
   ]
  },
  {
   "cell_type": "code",
   "execution_count": null,
   "id": "b809ac11",
   "metadata": {},
   "outputs": [],
   "source": [
    "H3.count()"
   ]
  },
  {
   "cell_type": "code",
   "execution_count": null,
   "id": "6428da79",
   "metadata": {},
   "outputs": [],
   "source": [
    "#H3 = sum(constr_w)"
   ]
  },
  {
   "cell_type": "code",
   "execution_count": null,
   "id": "aee964db",
   "metadata": {},
   "outputs": [],
   "source": [
    "# H4 APK(L) ACV(V)\n",
    "K = 1 #Coeff\n",
    "L = []\n",
    "V = [] # TBD\n",
    "H4 = 0\n",
    "for j in range (m):\n",
    "    L.append(df.loc[j,\"АПК\"])   \n",
    "for i in range(n):\n",
    "    H4 += less_equal(sum_poly(m, lambda j:(L[j]*x[j][i])), 2)\n",
    "H4 = K*sum(H4)    "
   ]
  },
  {
   "cell_type": "code",
   "execution_count": null,
   "id": "a21702e5",
   "metadata": {},
   "outputs": [],
   "source": [
    "# 5.5 Логистические расходы\n",
    "F = 1 #Coeff\n",
    "H5 = F*(sum_poly(m, lambda j: (j_imax[j] - sum_poly(n, lambda i:(i*x[j][i])))**2))"
   ]
  },
  {
   "cell_type": "code",
   "execution_count": null,
   "id": "7f265909",
   "metadata": {},
   "outputs": [],
   "source": [
    "# 5.6 Перенастройки по толщине\n",
    "# Для каждой толщины считаем, сколько плавок данной толщины делалось в соседних ts. Минимизируем дельту\n",
    "# We can use array w_sum = [[0 for x in range(w)] for y in range(n)]\n",
    "Q = 1\n",
    "delta_w = 0\n",
    "w_delta = []\n",
    "for i in range (n-1):\n",
    "    for w_ind in range(w):\n",
    "        label = \"Delta thickness \"+str(w_ind)+\" for ts\" + str(i)\n",
    "        if (w_sum[i+1][w_ind]!=0 or w_sum[i+1][w_ind]!=0):\n",
    "            w_delta.append(penalty(0.5*((w_sum[i+1][w_ind] - w_sum[i][w_ind])**2), label))     \n",
    "H6 = Q*sum(w_delta)       "
   ]
  },
  {
   "cell_type": "code",
   "execution_count": null,
   "id": "6172629c",
   "metadata": {},
   "outputs": [],
   "source": [
    "len(H6)"
   ]
  },
  {
   "cell_type": "code",
   "execution_count": null,
   "id": "8d053dee",
   "metadata": {},
   "outputs": [],
   "source": [
    "#H = H5 + H2_0 + H1_constr + H2_1_constr + H3 + H4 + H6"
   ]
  },
  {
   "cell_type": "code",
   "execution_count": null,
   "id": "ff512eed",
   "metadata": {},
   "outputs": [],
   "source": [
    "model = H3 + H2_0 + H1_constr + H2_1_constr"
   ]
  },
  {
   "cell_type": "code",
   "execution_count": null,
   "id": "f6603925",
   "metadata": {},
   "outputs": [],
   "source": [
    "model.num_logical_vars"
   ]
  },
  {
   "cell_type": "code",
   "execution_count": null,
   "id": "d3ba4484",
   "metadata": {},
   "outputs": [],
   "source": [
    "result = solver.solve(model)\n",
    "if len(result) == 0:\n",
    "    raise RuntimeError(\"Any one of constraints is not satisfied.\")\n",
    "\n",
    "energy, values = result[0].energy, result[0].values\n",
    "\n",
    "x_values = decode_solution(x, values)\n",
    "\n",
    "print(energy)\n",
    "    \n",
    "x_values_array = np.asarray(x_values, dtype = np.int32)\n",
    "np.savetxt(\"slabs-\"+str(pd.Timestamp.now())+\".csv\", x_values_array, fmt='%i', delimiter=\",\")"
   ]
  },
  {
   "cell_type": "code",
   "execution_count": null,
   "id": "4baac695",
   "metadata": {},
   "outputs": [],
   "source": [
    "for i in range (n):\n",
    "    print(\"Timeslot \", i)\n",
    "    for j in range(m):\n",
    "        if (x_values[j][i]):\n",
    "            print(\"Heat \", j)\n",
    "            print (\"Thickness \", w_numbers[j])\n",
    "            print (x_values[j][i])\n",
    "    \n",
    "    "
   ]
  },
  {
   "cell_type": "code",
   "execution_count": null,
   "id": "97b6157b",
   "metadata": {},
   "outputs": [],
   "source": [
    "client_result = solver.client_result\n",
    "client_result.annealing_time_ms"
   ]
  },
  {
   "cell_type": "code",
   "execution_count": null,
   "id": "897b0586",
   "metadata": {},
   "outputs": [],
   "source": [
    "client_result.timing.cpu_time"
   ]
  },
  {
   "cell_type": "code",
   "execution_count": null,
   "id": "6609f897",
   "metadata": {},
   "outputs": [],
   "source": [
    "x_values_array = np.asarray(x_values, dtype = np.int32)\n",
    "np.savetxt(\"slabs-\"+str(pd.Timestamp.now())+\".csv\", x_values_array, fmt='%i', delimiter=\",\")"
   ]
  },
  {
   "cell_type": "code",
   "execution_count": null,
   "id": "fcace2c5",
   "metadata": {},
   "outputs": [],
   "source": [
    "def get_assignments(x_ij, rng=40):\n",
    "    casts_assign = [[] for y in range(rng)]\n",
    "    cast = 0\n",
    "    for c in x_ij:\n",
    "        if 1 in c:\n",
    "            casts_assign[list(c).index(1)].append(cast)\n",
    "        cast += 1\n",
    "    return casts_assign\n",
    "\n",
    "def get_thickness_by_cast_num(c):\n",
    "    return df[\"Номер толщины(H_i)\"][c]\n",
    "\n",
    "#xij = np.loadtxt(open('/home/eugene/__Work/Slabs/Code/slabs-2021-11-09 00 01 03.398912.csv', \"r\"), delimiter=\",\")  # or just take the decoded solution 2D-array\n",
    "\n",
    "casts_assign = get_assignments(x_values)\n",
    "print(casts_assign)\n",
    "\n",
    "thickness_assign = [list(map(get_thickness_by_cast_num, slot)) for slot in casts_assign]\n",
    "print(thickness_assign)"
   ]
  },
  {
   "cell_type": "code",
   "execution_count": null,
   "id": "1c58bfa1",
   "metadata": {},
   "outputs": [],
   "source": [
    "def check_thickness_assign(d):\n",
    "    if d[0] > 3:\n",
    "        print('Thickness 0 casts number violation')\n",
    "    if d[1] > 4:\n",
    "        print('Thickness 1 casts number violation')\n",
    "    if d[2] > 0:\n",
    "        print('Thickness 2 casts number violation')\n",
    "    if d[3] > 1:\n",
    "        print('Thickness 3 casts number violation')\n",
    "    if d[4] > 1:\n",
    "        print('Thickness 4 casts number violation')\n",
    "    if d[5] > 1:\n",
    "        print('Thickness 5 casts number violation')\n",
    "    else:\n",
    "        print(\"Ok\")\n",
    "\n",
    "slot_num = 0\n",
    "for slot in thickness_assign:\n",
    "    d = {0:0, 1:0, 2:0, 3:0, 4:0, 5:0}\n",
    "    for thickness in slot:\n",
    "        d[thickness] += 1\n",
    "    print(str(d) + 'in slot ' + str(slot_num))\n",
    "    check_thickness_assign(d)\n",
    "\n",
    "    slot_num += 1"
   ]
  }
 ],
 "metadata": {
  "kernelspec": {
   "display_name": "Python 3",
   "language": "python",
   "name": "python3"
  },
  "language_info": {
   "codemirror_mode": {
    "name": "ipython",
    "version": 3
   },
   "file_extension": ".py",
   "mimetype": "text/x-python",
   "name": "python",
   "nbconvert_exporter": "python",
   "pygments_lexer": "ipython3",
   "version": "3.9.5"
  }
 },
 "nbformat": 4,
 "nbformat_minor": 5
}
