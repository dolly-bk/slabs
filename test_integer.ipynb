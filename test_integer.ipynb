{
 "cells": [
  {
   "cell_type": "code",
   "execution_count": 1,
   "id": "719a6840",
   "metadata": {},
   "outputs": [],
   "source": [
    "import numpy as np\n",
    "i = 11000 # size of array\n",
    "sampl = np.random.randint(low=1, high=999, size=(i,))\n",
    "sampl = np.append(sampl, 1000)\n",
    "np.random.shuffle(sampl)\n",
    "\n",
    "from amplify import (\n",
    "    BinaryPoly,\n",
    "    BinaryQuadraticModel,\n",
    "    sum_poly,pair_sum,\n",
    "    gen_symbols,\n",
    "    Solver,\n",
    "    decode_solution,\n",
    ")\n",
    "\n",
    "x = gen_symbols(BinaryPoly,i)\n",
    "\n",
    "A=2000;B=1;\n",
    "H = A*(1-sum_poly(x))**2 -B*sum_poly(i, lambda i_ind: sampl[i_ind]*x[i_ind])\n",
    "\n",
    "model = H\n"
   ]
  },
  {
   "cell_type": "code",
   "execution_count": null,
   "id": "939d3150",
   "metadata": {},
   "outputs": [],
   "source": [
    "\n",
    "from amplify import Solver\n",
    "from amplify.client import FixstarsClient\n",
    "#from amplify.client.ocean import DWaveSamplerClient\n",
    "from amplify.constraint import less_equal, equal_to, penalty\n",
    "from amplify import BinarySymbolGenerator, Solver\n",
    "#from amplify.client.ocean import LeapHybridSamplerClient\n",
    "\n",
    "client = FixstarsClient()\n",
    "client.token = \"XXXXXXXXXX\"\n",
    "client.parameters.timeout = 60000  # Timeout is 60 seconds\n",
    "#client.parameters.outputs.duplicate = True  # Enable duplicate output for solutions with the same energy values\n",
    "#client.parameters.outputs.num_outputs = 0   # Output all the found solutions\n",
    "client.parameters.num_unit_steps = 100\n",
    "solver = Solver(client)\n",
    "\n",
    "%%time\n",
    "result = solver.solve(model)\n",
    "if len(result) == 0:\n",
    "    raise RuntimeError(\"Any one of constraints is not satisfied.\")\n",
    "\n",
    "energy, values = result[0].energy, result[0].values\n",
    "\n",
    "\n",
    "x_values = decode_solution(x, values)\n",
    "\n",
    "print(energy)"
   ]
  }
 ],
 "metadata": {
  "kernelspec": {
   "display_name": "Python 3",
   "language": "python",
   "name": "python3"
  },
  "language_info": {
   "codemirror_mode": {
    "name": "ipython",
    "version": 3
   },
   "file_extension": ".py",
   "mimetype": "text/x-python",
   "name": "python",
   "nbconvert_exporter": "python",
   "pygments_lexer": "ipython3",
   "version": "3.9.5"
  }
 },
 "nbformat": 4,
 "nbformat_minor": 5
}
